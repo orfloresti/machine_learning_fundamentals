{
 "cells": [
  {
   "attachments": {},
   "cell_type": "markdown",
   "metadata": {},
   "source": [
    "## Install numpy library\n",
    "\n",
    "```\n",
    "pip install numpy\n",
    "```"
   ]
  },
  {
   "attachments": {},
   "cell_type": "markdown",
   "metadata": {},
   "source": [
    "### Import numpy "
   ]
  },
  {
   "attachments": {},
   "cell_type": "markdown",
   "metadata": {},
   "source": []
  },
  {
   "cell_type": "code",
   "execution_count": 1,
   "metadata": {},
   "outputs": [],
   "source": [
    "# as np ti create a alias on numpy lib.\n",
    "import numpy as np"
   ]
  },
  {
   "attachments": {},
   "cell_type": "markdown",
   "metadata": {},
   "source": [
    "### Create vector"
   ]
  },
  {
   "cell_type": "code",
   "execution_count": 5,
   "metadata": {},
   "outputs": [
    {
     "name": "stdout",
     "output_type": "stream",
     "text": [
      "Vector\n",
      "  [10 15 20]\n",
      " Column\n",
      " [[10]\n",
      " [20]\n",
      " [30]]\n"
     ]
    }
   ],
   "source": [
    "import numpy as np\n",
    "\n",
    "# Create a row vector\n",
    "row_vector = np.array([10,15,20])\n",
    "print(\"Vector\\n \", row_vector)\n",
    "\n",
    "# Create a column vector\n",
    "column_vector = np.array([[10], [20], [30]])\n",
    "print(\" Column\\n\",column_vector)"
   ]
  },
  {
   "attachments": {},
   "cell_type": "markdown",
   "metadata": {},
   "source": [
    "### Create matrix "
   ]
  },
  {
   "cell_type": "code",
   "execution_count": 3,
   "metadata": {},
   "outputs": [
    {
     "name": "stdout",
     "output_type": "stream",
     "text": [
      "[[10 20 30]\n",
      " [10 20 30]\n",
      " [10 20 30]]\n"
     ]
    }
   ],
   "source": [
    "import numpy as np\n",
    "\n",
    "# Create a matrix\n",
    "matrix = np.array([[10, 20, 30], [10, 20, 30], [10, 20, 30]])\n",
    "print(matrix)"
   ]
  },
  {
   "attachments": {},
   "cell_type": "markdown",
   "metadata": {},
   "source": [
    "### Accessing Elements"
   ]
  },
  {
   "cell_type": "code",
   "execution_count": 13,
   "metadata": {},
   "outputs": [
    {
     "name": "stdout",
     "output_type": "stream",
     "text": [
      "vector \n",
      " [10 20 30 40 50 60 70 80 90]\n",
      "matrix \n",
      " [[10 20 30]\n",
      " [40 50 60]\n",
      " [70 80 90]]\n",
      "row_vector[1] \n",
      " 20\n",
      "matrix[2,2] \n",
      " 90\n",
      "row_vector[:] \n",
      " [10 20 30 40 50 60 70 80 90]\n",
      "row_vector[-1] \n",
      " 90\n",
      "matrix[:2,:] \n",
      " [[10 20 30]\n",
      " [40 50 60]]\n"
     ]
    }
   ],
   "source": [
    "import numpy as np\n",
    "\n",
    "# Create a vector as a row\n",
    "row_vector = np.array([10, 20, 30, 40, 50, 60, 70, 80,90])\n",
    "print(\"vector \\n\", row_vector)\n",
    "\n",
    "# Create a Matrix\n",
    "matrix = np.array([[10, 20, 30], [40, 50, 60], [70, 80,90]])\n",
    "print(\"matrix \\n\", matrix)\n",
    "\n",
    "# Select 2nd element of vector\n",
    "print(\"row_vector[1] \\n\", row_vector[1])\n",
    "\n",
    "# Select 3rd row 3rd column\n",
    "print(\"matrix[2,2] \\n\", matrix[2,2])\n",
    "\n",
    "# Select all elements of a vector\n",
    "print(\"row_vector[:] \\n\", row_vector[:])\n",
    "\n",
    "# Select the last element\n",
    "print(\"row_vector[-1] \\n\", row_vector[-1])\n",
    "\n",
    "# Select the first 2 rows and all columns of the matrix\n",
    "print(\"matrix[:2,:] \\n\", matrix[:2,:])\n",
    "\n"
   ]
  },
  {
   "attachments": {},
   "cell_type": "markdown",
   "metadata": {},
   "source": [
    "### Matrix"
   ]
  },
  {
   "cell_type": "code",
   "execution_count": 15,
   "metadata": {},
   "outputs": [
    {
     "name": "stdout",
     "output_type": "stream",
     "text": [
      "Rows and Columns \n",
      " (3, 3)\n",
      "Total elements \n",
      " 9\n",
      "Dimensions \n",
      " 2\n"
     ]
    }
   ],
   "source": [
    "import numpy as np\n",
    "\n",
    "# Create matrix\n",
    "matrix = np.array([[10, 20, 30], [40, 50, 60], [70, 80,90]])\n",
    "\n",
    "# View the number of rows and columns\n",
    "print(\"Rows and Columns \\n\", matrix.shape)\n",
    "\n",
    "# View the number of elements (rows*columns)\n",
    "print(\"Total elements \\n\", matrix.size)\n",
    "\n",
    "# View the number of dimensions \n",
    "print(\"Dimensions \\n\", matrix.ndim)\n"
   ]
  },
  {
   "attachments": {},
   "cell_type": "markdown",
   "metadata": {},
   "source": [
    "### Min and Max"
   ]
  },
  {
   "cell_type": "code",
   "execution_count": 16,
   "metadata": {},
   "outputs": [
    {
     "name": "stdout",
     "output_type": "stream",
     "text": [
      "90\n",
      "10\n",
      "[70 80 90]\n",
      "[30 60 90]\n"
     ]
    }
   ],
   "source": [
    "import numpy as np\n",
    "\n",
    "# Create matrix\n",
    "matrix = np.array([[10, 20, 30], [40, 50, 60], [70, 80,90]])\n",
    "\n",
    "# Return the max element\n",
    "print(np.max(matrix))\n",
    "\n",
    "# Return the min element\n",
    "print(np.min(matrix))\n",
    "\n",
    "# To find the max element in each column\n",
    "print(np.max(matrix, axis=0))\n",
    "\n",
    "# To find the max element in each row\n",
    "print(np.max(matrix, axis=1))\n"
   ]
  },
  {
   "attachments": {},
   "cell_type": "markdown",
   "metadata": {},
   "source": [
    "### Calculate average"
   ]
  },
  {
   "cell_type": "code",
   "execution_count": 17,
   "metadata": {},
   "outputs": [
    {
     "name": "stdout",
     "output_type": "stream",
     "text": [
      "50.0\n"
     ]
    }
   ],
   "source": [
    "import numpy as np\n",
    "\n",
    "# Create matrix\n",
    "matrix = np.array([[10, 20, 30], [40, 50, 60], [70, 80,90]])\n",
    "\n",
    "# Mean \n",
    "print(np.mean(matrix))"
   ]
  },
  {
   "attachments": {},
   "cell_type": "markdown",
   "metadata": {},
   "source": [
    "### Reshape"
   ]
  },
  {
   "cell_type": "code",
   "execution_count": 18,
   "metadata": {},
   "outputs": [
    {
     "name": "stdout",
     "output_type": "stream",
     "text": [
      "[[10]\n",
      " [20]\n",
      " [30]\n",
      " [40]\n",
      " [50]\n",
      " [60]\n",
      " [70]\n",
      " [80]\n",
      " [90]]\n",
      "[[10 20 30 40 50 60 70 80 90]]\n",
      "[10 20 30 40 50 60 70 80 90]\n",
      "[10 20 30 40 50 60 70 80 90]\n"
     ]
    }
   ],
   "source": [
    "import numpy as np\n",
    "\n",
    "# Create matrix\n",
    "matrix = np.array([[10, 20, 30], [40, 50, 60], [70, 80,90]])\n",
    "\n",
    "# Reshape\n",
    "print(matrix.reshape(9,1))\n",
    "\n",
    "# Here -1 says as many columns as needed and 1 row\n",
    "print(matrix.reshape(1,-1))\n",
    "\n",
    "# If we provide only 1 value Reshape would return a 1-d array of that length\n",
    "print(matrix.reshape(9))\n",
    "\n",
    "# We can also use the Flatten method to convert a matrix to 1-d array\n",
    "print(matrix.flatten())\n"
   ]
  },
  {
   "attachments": {},
   "cell_type": "markdown",
   "metadata": {},
   "source": [
    "### Transpose"
   ]
  },
  {
   "cell_type": "code",
   "execution_count": 19,
   "metadata": {},
   "outputs": [
    {
     "name": "stdout",
     "output_type": "stream",
     "text": [
      "[[10 40 70]\n",
      " [20 50 80]\n",
      " [30 60 90]]\n"
     ]
    }
   ],
   "source": [
    "import numpy as np\n",
    "\n",
    "# Create matrix\n",
    "matrix = np.array([[10, 20, 30], [40, 50, 60], [70, 80,90]])\n",
    "\n",
    "# Transpose the matrix\n",
    "print(matrix.T)"
   ]
  },
  {
   "attachments": {},
   "cell_type": "markdown",
   "metadata": {},
   "source": [
    "### Diagonal"
   ]
  },
  {
   "cell_type": "code",
   "execution_count": 20,
   "metadata": {},
   "outputs": [
    {
     "name": "stdout",
     "output_type": "stream",
     "text": [
      "[10 50 90]\n"
     ]
    }
   ],
   "source": [
    "import numpy as np\n",
    "\n",
    "# Create matrix\n",
    "matrix = np.array([[10, 20, 30], [40, 50, 60], [70, 80,90]])\n",
    "\n",
    "# Print the principal diagonal\n",
    "print(matrix.diagonal())"
   ]
  },
  {
   "attachments": {},
   "cell_type": "markdown",
   "metadata": {},
   "source": [
    "### Dot Product"
   ]
  },
  {
   "cell_type": "code",
   "execution_count": 22,
   "metadata": {},
   "outputs": [
    {
     "name": "stdout",
     "output_type": "stream",
     "text": [
      "[3200]\n"
     ]
    }
   ],
   "source": [
    "import numpy as np\n",
    "\n",
    "# Create vector 1\n",
    "vector_1 = np.array([10, 20, 30])\n",
    "\n",
    "# Create vector 2\n",
    "vector_2 = np.array([[40], [50], [60]])\n",
    "\n",
    "# Calculate dot product\n",
    "print(np.dot(vector_1, vector_2))"
   ]
  },
  {
   "attachments": {},
   "cell_type": "markdown",
   "metadata": {},
   "source": [
    "### Adding, Subtracting and Multiplying Matrices"
   ]
  },
  {
   "cell_type": "code",
   "execution_count": 1,
   "metadata": {},
   "outputs": [
    {
     "name": "stdout",
     "output_type": "stream",
     "text": [
      "[[ 8 10 12]\n",
      " [ 8 10 12]\n",
      " [ 8 10 12]]\n",
      "[[-6 -6 -6]\n",
      " [ 0  0  0]\n",
      " [ 6  6  6]]\n",
      "[[ 7 16 27]\n",
      " [16 25 36]\n",
      " [ 7 16 27]]\n",
      "[[ 7 16 27]\n",
      " [16 25 36]\n",
      " [ 7 16 27]]\n"
     ]
    }
   ],
   "source": [
    "import numpy as np\n",
    "\n",
    "# Create matrices\n",
    "matrix_1 = np.array([[1, 2, 3], [4, 5, 6], [7, 8,9]])\n",
    "\n",
    "matrix_2 = np.array([[7, 8,9],[4, 5, 6],[1, 2, 3]])\n",
    "\n",
    "# Add the two matrices\n",
    "print(np.add(matrix_1, matrix_2))\n",
    "\n",
    "# Subtraction\n",
    "print(np.subtract(matrix_1, matrix_2))\n",
    "\n",
    "# Multiplication (Element wise)\n",
    "print(matrix_1 * matrix_2)\n",
    "\n",
    "# Multiplication (row column wise)\n",
    "print(matrix_1 * matrix_2)"
   ]
  },
  {
   "attachments": {},
   "cell_type": "markdown",
   "metadata": {},
   "source": [
    "### Zeros and ones"
   ]
  },
  {
   "cell_type": "code",
   "execution_count": 3,
   "metadata": {},
   "outputs": [
    {
     "name": "stdout",
     "output_type": "stream",
     "text": [
      "[[0. 0. 0. 0.]\n",
      " [0. 0. 0. 0.]\n",
      " [0. 0. 0. 0.]\n",
      " [0. 0. 0. 0.]]\n",
      "[[1. 1. 1.]\n",
      " [1. 1. 1.]\n",
      " [1. 1. 1.]]\n"
     ]
    }
   ],
   "source": [
    "import numpy as np\n",
    "\n",
    "# Zeros\n",
    "zeros = np.zeros([4,4])\n",
    "print(zeros)\n",
    "\n",
    "# Ones\n",
    "ones = np.ones([3,3])\n",
    "print(ones)\n"
   ]
  },
  {
   "attachments": {},
   "cell_type": "markdown",
   "metadata": {},
   "source": [
    "### Generate random values"
   ]
  },
  {
   "cell_type": "code",
   "execution_count": 4,
   "metadata": {},
   "outputs": [
    {
     "name": "stdout",
     "output_type": "stream",
     "text": [
      "[9 6 3]\n",
      "[ 4.88641983 -0.92751525  4.72133708 -3.29843636  3.9936074   0.84869199]\n"
     ]
    }
   ],
   "source": [
    "import numpy as np\n",
    "\n",
    "# Generate 3 random integers b/w 1 and 10\n",
    "print(np.random.randint(0,11,3))\n",
    "\n",
    "# Draw 3 number from a normal distribution with mean 1.0 and std 2.0\n",
    "print(np.random.normal(1.0, 2.0, 6))"
   ]
  },
  {
   "attachments": {},
   "cell_type": "markdown",
   "metadata": {},
   "source": [
    "### Solve linear sistem"
   ]
  },
  {
   "cell_type": "code",
   "execution_count": 1,
   "metadata": {},
   "outputs": [
    {
     "name": "stdout",
     "output_type": "stream",
     "text": [
      "[ 4. -2.  3.]\n"
     ]
    }
   ],
   "source": [
    "import numpy as np\n",
    "\n",
    "# Matrix\n",
    "matrix = np.array([[2,4,6],[4,5,6],[3,1,-2]])\n",
    "\n",
    "vector = np.array([18,24,4])\n",
    "\n",
    "# Solve\n",
    "print( np.linalg.solve(matrix, vector) )\n"
   ]
  }
 ],
 "metadata": {
  "kernelspec": {
   "display_name": "ml21d-venv",
   "language": "python",
   "name": "python3"
  },
  "language_info": {
   "codemirror_mode": {
    "name": "ipython",
    "version": 3
   },
   "file_extension": ".py",
   "mimetype": "text/x-python",
   "name": "python",
   "nbconvert_exporter": "python",
   "pygments_lexer": "ipython3",
   "version": "3.10.6"
  },
  "orig_nbformat": 4
 },
 "nbformat": 4,
 "nbformat_minor": 2
}
